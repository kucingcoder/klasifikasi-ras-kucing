{
 "cells": [
  {
   "cell_type": "markdown",
   "metadata": {},
   "source": [
    "# Menambah Library"
   ]
  },
  {
   "cell_type": "markdown",
   "metadata": {},
   "source": [
    "Memasukan library yang dibutuhkan dalam projek"
   ]
  },
  {
   "cell_type": "code",
   "execution_count": null,
   "metadata": {},
   "outputs": [],
   "source": [
    "import tensorflow as tf\n",
    "import matplotlib.pyplot as plt\n",
    "import winsound\n",
    "\n",
    "from tensorflow.python.client import device_lib\n",
    "from keras.preprocessing.image import ImageDataGenerator\n",
    "from keras.applications.inception_v3 import InceptionV3\n",
    "from keras.layers import GlobalAveragePooling2D, Dense, Dropout"
   ]
  },
  {
   "cell_type": "markdown",
   "metadata": {},
   "source": [
    "# Cek Spek"
   ]
  },
  {
   "cell_type": "markdown",
   "metadata": {},
   "source": [
    "Mengetahui apakah hanya dapat memakai CPU atau dapat menggunakan CPU dan GPU (Nvidia Cuda)"
   ]
  },
  {
   "cell_type": "code",
   "execution_count": null,
   "metadata": {},
   "outputs": [],
   "source": [
    "device_lib.list_local_devices()"
   ]
  },
  {
   "cell_type": "markdown",
   "metadata": {},
   "source": [
    "# AUGMENTASI GAMBAR"
   ]
  },
  {
   "cell_type": "markdown",
   "metadata": {},
   "source": [
    "Generator untuk membuat gambar menjadi lebih variatif dan menentukan besar data yang digunakan untuk validasi"
   ]
  },
  {
   "cell_type": "code",
   "execution_count": null,
   "metadata": {},
   "outputs": [],
   "source": [
    "datagen_train = ImageDataGenerator(\n",
    "    rescale = 1./255,\n",
    "    rotation_range = 20,\n",
    "    horizontal_flip = True,\n",
    "    fill_mode = 'nearest',\n",
    "    validation_split = 0.2\n",
    ")\n",
    "\n",
    "datagen_val = ImageDataGenerator(\n",
    "    rescale = 1./255,\n",
    "    validation_split = 0.2\n",
    ")"
   ]
  },
  {
   "cell_type": "markdown",
   "metadata": {},
   "source": [
    "# DATASET"
   ]
  },
  {
   "cell_type": "markdown",
   "metadata": {},
   "source": [
    "Ubah data menjadi dataset training & validation"
   ]
  },
  {
   "cell_type": "code",
   "execution_count": null,
   "metadata": {},
   "outputs": [],
   "source": [
    "dataset = 'C:/Users/Hanif/Downloads/Compressed/27 Cat Breeds'\n",
    "\n",
    "jumlah_batch = 32\n",
    "ukuran_gambar = (120, 120)\n",
    "\n",
    "train = datagen_train.flow_from_directory(\n",
    "    dataset,\n",
    "    target_size=ukuran_gambar,\n",
    "    batch_size=jumlah_batch,\n",
    "    class_mode='categorical',\n",
    "    subset='training'\n",
    ")\n",
    "\n",
    "val = datagen_val.flow_from_directory(\n",
    "    dataset,\n",
    "    target_size=ukuran_gambar,\n",
    "    batch_size=jumlah_batch,\n",
    "    class_mode='categorical',\n",
    "    subset='validation'\n",
    ")"
   ]
  },
  {
   "cell_type": "markdown",
   "metadata": {},
   "source": [
    "# MODEL CNN"
   ]
  },
  {
   "cell_type": "markdown",
   "metadata": {},
   "source": [
    "Membuat model dengan algoritma cnn untuk klasifikasi gambar multi kelas"
   ]
  },
  {
   "cell_type": "code",
   "execution_count": null,
   "metadata": {},
   "outputs": [],
   "source": [
    "jumlah_kelas = val.num_classes\n",
    "\n",
    "base_model = InceptionV3(weights='imagenet', include_top=False, input_shape=(ukuran_gambar[0], ukuran_gambar[1], 3))\n",
    "\n",
    "for layer in base_model.layers:\n",
    "    layer.trainable = False\n",
    "\n",
    "x = base_model.output\n",
    "x = GlobalAveragePooling2D()(x)\n",
    "x = Dense(128, activation='relu')(x)\n",
    "x = Dropout(0.25)(x)\n",
    "x = Dense(64, activation='relu')(x)\n",
    "x = Dropout(0.25)(x)\n",
    "\n",
    "predictions = Dense(jumlah_kelas, activation='softmax')(x)\n",
    "\n",
    "model = tf.keras.Model(inputs=base_model.input, outputs=predictions)\n",
    "\n",
    "model.summary()\n",
    "\n",
    "model.compile(optimizer= tf.keras.optimizers.Adam(learning_rate=0.0005), loss='categorical_crossentropy', metrics=['accuracy'])"
   ]
  },
  {
   "cell_type": "markdown",
   "metadata": {},
   "source": [
    "# LATIH"
   ]
  },
  {
   "cell_type": "markdown",
   "metadata": {},
   "source": [
    "Model yang sudah dibuat dilatih memakai dataset training Dan validation"
   ]
  },
  {
   "cell_type": "code",
   "execution_count": null,
   "metadata": {},
   "outputs": [],
   "source": [
    "akurasi_minimal = 60e-2\n",
    "jumlah_langkah = int(train.samples/train.batch_size)\n",
    "\n",
    "class my_callbacks(tf.keras.callbacks.Callback):\n",
    "    def on_epoch_end(self, epoch, logs = None):\n",
    "        if logs.get('val_accuracy') >= akurasi_minimal:\n",
    "            self.model.stop_training = True\n",
    "            \n",
    "latih = model.fit(\n",
    "    train,\n",
    "    steps_per_epoch=jumlah_langkah,\n",
    "    epochs=5000,\n",
    "    validation_data=val,\n",
    "    callbacks=[my_callbacks()]\n",
    ")\n",
    "\n",
    "winsound.Beep(1500,1000)"
   ]
  },
  {
   "cell_type": "markdown",
   "metadata": {},
   "source": [
    "Grafik riwayat pelatihan untuk melihat seberapa baik model dilatih"
   ]
  },
  {
   "cell_type": "code",
   "execution_count": null,
   "metadata": {},
   "outputs": [],
   "source": [
    "akurasi = latih.history['val_accuracy']\n",
    "loss = latih.history['val_loss']\n",
    "\n",
    "plt.plot(akurasi, color='blue', label='Akurasi')\n",
    "plt.plot(loss, color='red', label='Loss')\n",
    "plt.xlabel('Epoch')\n",
    "plt.ylabel('Nilai')\n",
    "plt.title('Riwayat Pelatihan Model')\n",
    "plt.legend()\n",
    "plt.show()"
   ]
  },
  {
   "cell_type": "markdown",
   "metadata": {},
   "source": [
    "Cek akurasi akhir model"
   ]
  },
  {
   "cell_type": "code",
   "execution_count": null,
   "metadata": {},
   "outputs": [],
   "source": [
    "hasil = model.evaluate(val)\n",
    "\n",
    "accuracy = hasil[1]\n",
    "print(f'\\nAkurasi Model: {accuracy * 100:.2f} %')"
   ]
  },
  {
   "cell_type": "markdown",
   "metadata": {},
   "source": [
    "# Evaluasi"
   ]
  },
  {
   "cell_type": "markdown",
   "metadata": {},
   "source": [
    "Mencoba model dengan data nyata diluar dataset"
   ]
  },
  {
   "cell_type": "code",
   "execution_count": null,
   "metadata": {},
   "outputs": [],
   "source": [
    "import os\n",
    "\n",
    "daftar_kelas = list(val.class_indices.keys())\n",
    "\n",
    "daftar_file = os.listdir('Examples')\n",
    "\n",
    "for file in daftar_file:\n",
    "    gambar = os.path.join('Examples/', file)\n",
    "\n",
    "    img = tf.keras.utils.load_img(gambar, target_size=ukuran_gambar)\n",
    "    img_array = tf.keras.utils.img_to_array(img)\n",
    "    img_array = tf.expand_dims(img_array, 0)\n",
    "\n",
    "    predictions = model.predict(img_array)\n",
    "    score = tf.nn.softmax(predictions[0])\n",
    "\n",
    "    jenis = daftar_kelas[tf.argmax(score)]\n",
    "\n",
    "    display = tf.keras.utils.load_img(gambar, target_size=None)\n",
    "    plt.imshow(display)\n",
    "    plt.xlabel(f'Prediksi : {jenis}\\n Asli : {file[:-4]}', fontsize=10)\n",
    "    plt.show()"
   ]
  }
 ],
 "metadata": {
  "kernelspec": {
   "display_name": "Python 3",
   "language": "python",
   "name": "python3"
  },
  "language_info": {
   "codemirror_mode": {
    "name": "ipython",
    "version": 3
   },
   "file_extension": ".py",
   "mimetype": "text/x-python",
   "name": "python",
   "nbconvert_exporter": "python",
   "pygments_lexer": "ipython3",
   "version": "3.11.8"
  }
 },
 "nbformat": 4,
 "nbformat_minor": 2
}
