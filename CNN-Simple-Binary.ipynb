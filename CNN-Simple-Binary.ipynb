{
 "cells": [
  {
   "cell_type": "markdown",
   "metadata": {},
   "source": [
    "# Menambah Library"
   ]
  },
  {
   "cell_type": "markdown",
   "metadata": {},
   "source": [
    "Memasukan library yang dibutuhkan dalam projek"
   ]
  },
  {
   "cell_type": "code",
   "execution_count": 26,
   "metadata": {},
   "outputs": [],
   "source": [
    "import tensorflow as tf\n",
    "import matplotlib.pyplot as plt\n",
    "import winsound\n",
    "import tf2onnx\n",
    "\n",
    "from tensorflow.python.client import device_lib\n",
    "from tensorflow.keras.preprocessing.image import ImageDataGenerator\n",
    "from tensorflow.keras.models import Sequential\n",
    "from tensorflow.keras.layers import  Conv2D, MaxPooling2D, Dropout, Flatten, Dense\n",
    "from tensorflow.keras.callbacks import EarlyStopping\n",
    "from datetime import datetime\n",
    "from onnx import save\n"
   ]
  },
  {
   "cell_type": "markdown",
   "metadata": {},
   "source": [
    "# Cek Spek"
   ]
  },
  {
   "cell_type": "markdown",
   "metadata": {},
   "source": [
    "Mengetahui apakah hanya dapat memakai CPU atau dapat menggunakan CPU dan GPU (Nvidia Cuda)"
   ]
  },
  {
   "cell_type": "code",
   "execution_count": 27,
   "metadata": {},
   "outputs": [
    {
     "data": {
      "text/plain": [
       "[name: \"/device:CPU:0\"\n",
       " device_type: \"CPU\"\n",
       " memory_limit: 268435456\n",
       " locality {\n",
       " }\n",
       " incarnation: 2393269860598808948\n",
       " xla_global_id: -1,\n",
       " name: \"/device:GPU:0\"\n",
       " device_type: \"GPU\"\n",
       " memory_limit: 1473062299\n",
       " locality {\n",
       "   bus_id: 1\n",
       "   links {\n",
       "   }\n",
       " }\n",
       " incarnation: 3398030505963599015\n",
       " physical_device_desc: \"device: 0, name: NVIDIA GeForce MX350, pci bus id: 0000:01:00.0, compute capability: 6.1\"\n",
       " xla_global_id: 416903419]"
      ]
     },
     "execution_count": 27,
     "metadata": {},
     "output_type": "execute_result"
    }
   ],
   "source": [
    "device_lib.list_local_devices()"
   ]
  },
  {
   "cell_type": "markdown",
   "metadata": {},
   "source": [
    "# AUGMENTASI GAMBAR"
   ]
  },
  {
   "cell_type": "markdown",
   "metadata": {},
   "source": [
    "Generator untuk membuat gambar menjadi lebih variatif dan menentukan besar data yang digunakan untuk validasi"
   ]
  },
  {
   "cell_type": "code",
   "execution_count": 28,
   "metadata": {},
   "outputs": [],
   "source": [
    "datagen_train = ImageDataGenerator(\n",
    "    rescale = 1./255,\n",
    "    rotation_range = 30,\n",
    "    horizontal_flip = True,\n",
    "    validation_split = 0.2\n",
    ")\n",
    "\n",
    "datagen_val = ImageDataGenerator(\n",
    "    rescale = 1./255,\n",
    "    validation_split = 0.2\n",
    ")"
   ]
  },
  {
   "cell_type": "markdown",
   "metadata": {},
   "source": [
    "# DATASET"
   ]
  },
  {
   "cell_type": "markdown",
   "metadata": {},
   "source": [
    "Ubah data menjadi dataset training & validation"
   ]
  },
  {
   "cell_type": "code",
   "execution_count": 29,
   "metadata": {},
   "outputs": [
    {
     "name": "stdout",
     "output_type": "stream",
     "text": [
      "Found 4535 images belonging to 2 classes.\n",
      "Found 1133 images belonging to 2 classes.\n"
     ]
    }
   ],
   "source": [
    "dataset = 'C:/Users/LENOVO/Downloads/PKB/Cat & Not Cat'\n",
    "\n",
    "jumlah_batch = 64\n",
    "ukuran_gambar = (85, 85)\n",
    "\n",
    "train = datagen_train.flow_from_directory(\n",
    "    dataset,\n",
    "    target_size=ukuran_gambar,\n",
    "    batch_size=jumlah_batch,\n",
    "    class_mode='binary',\n",
    "    subset='training'\n",
    ")\n",
    "\n",
    "val = datagen_val.flow_from_directory(\n",
    "    dataset,\n",
    "    target_size=ukuran_gambar,\n",
    "    batch_size=jumlah_batch,\n",
    "    class_mode='binary',\n",
    "    subset='validation'\n",
    ")"
   ]
  },
  {
   "cell_type": "markdown",
   "metadata": {},
   "source": [
    "# MODEL CNN"
   ]
  },
  {
   "cell_type": "markdown",
   "metadata": {},
   "source": [
    "Membuat model dengan algoritma cnn untuk klasifikasi gambar multi kelas"
   ]
  },
  {
   "cell_type": "code",
   "execution_count": 30,
   "metadata": {},
   "outputs": [],
   "source": [
    "model = Sequential()\n",
    "\n",
    "model.add(Conv2D(32, (3, 3), activation='relu', input_shape=(ukuran_gambar[0], ukuran_gambar[1], 3)))\n",
    "model.add(MaxPooling2D((2, 2)))\n",
    "model.add(Conv2D(64, (3, 3), activation='relu'))\n",
    "model.add(MaxPooling2D((2, 2)))\n",
    "model.add(Conv2D(128, (3, 3), activation='relu'))\n",
    "model.add(MaxPooling2D((2, 2)))\n",
    "model.add(Flatten())\n",
    "model.add(Dense(64, activation='relu'))\n",
    "model.add(Dense(32, activation='relu'))\n",
    "model.add(Dense(1, activation='sigmoid'))\n",
    "\n",
    "model.compile(optimizer='adam', loss='binary_crossentropy', metrics=['accuracy'])"
   ]
  },
  {
   "cell_type": "markdown",
   "metadata": {},
   "source": [
    "# LATIH"
   ]
  },
  {
   "cell_type": "markdown",
   "metadata": {},
   "source": [
    "Model yang sudah dibuat dilatih memakai dataset training Dan validation"
   ]
  },
  {
   "cell_type": "code",
   "execution_count": 31,
   "metadata": {},
   "outputs": [
    {
     "name": "stdout",
     "output_type": "stream",
     "text": [
      "Epoch 1/100\n",
      "71/71 [==============================] - 31s 387ms/step - loss: 0.5029 - accuracy: 0.7852 - val_loss: 0.6188 - val_accuracy: 0.6964\n",
      "Epoch 2/100\n",
      "71/71 [==============================] - 21s 292ms/step - loss: 0.3816 - accuracy: 0.8569 - val_loss: 0.5385 - val_accuracy: 0.7405\n",
      "Epoch 3/100\n",
      "71/71 [==============================] - 19s 264ms/step - loss: 0.3573 - accuracy: 0.8653 - val_loss: 0.6164 - val_accuracy: 0.7317\n",
      "Epoch 4/100\n",
      "71/71 [==============================] - 22s 306ms/step - loss: 0.3449 - accuracy: 0.8673 - val_loss: 0.5484 - val_accuracy: 0.7502\n",
      "Epoch 5/100\n",
      "71/71 [==============================] - 23s 322ms/step - loss: 0.3338 - accuracy: 0.8754 - val_loss: 0.5293 - val_accuracy: 0.7440\n",
      "Epoch 6/100\n",
      "71/71 [==============================] - 19s 264ms/step - loss: 0.3242 - accuracy: 0.8752 - val_loss: 0.5124 - val_accuracy: 0.7529\n",
      "Epoch 7/100\n",
      "71/71 [==============================] - 19s 262ms/step - loss: 0.3129 - accuracy: 0.8785 - val_loss: 0.5394 - val_accuracy: 0.7476\n",
      "Epoch 8/100\n",
      "71/71 [==============================] - 19s 268ms/step - loss: 0.3158 - accuracy: 0.8800 - val_loss: 0.5128 - val_accuracy: 0.7652\n",
      "Epoch 9/100\n",
      "71/71 [==============================] - 19s 262ms/step - loss: 0.3094 - accuracy: 0.8787 - val_loss: 0.5409 - val_accuracy: 0.7643\n"
     ]
    }
   ],
   "source": [
    "berhenti_berharap = EarlyStopping(monitor='val_loss', patience=3)\n",
    "            \n",
    "latih = model.fit(\n",
    "    train,\n",
    "    validation_data=val,\n",
    "    epochs=100,\n",
    "    callbacks=[berhenti_berharap]\n",
    ")\n",
    "\n",
    "winsound.Beep(1500,5000)"
   ]
  },
  {
   "cell_type": "markdown",
   "metadata": {},
   "source": [
    "Grafik riwayat pelatihan untuk melihat seberapa baik model dilatih"
   ]
  },
  {
   "cell_type": "code",
   "execution_count": 32,
   "metadata": {},
   "outputs": [
    {
     "data": {
      "image/png": "[encoded data removed]",
      "text/plain": [
       "<Figure size 640x480 with 1 Axes>"
      ]
     },
     "metadata": {},
     "output_type": "display_data"
    }
   ],
   "source": [
    "akurasi = latih.history['val_accuracy']\n",
    "loss = latih.history['val_loss']\n",
    "\n",
    "plt.plot(akurasi, color='blue', label='Akurasi')\n",
    "plt.plot(loss, color='red', label='Loss')\n",
    "plt.xlabel('Epoch')\n",
    "plt.ylabel('Nilai')\n",
    "plt.title('Riwayat Pelatihan Model')\n",
    "plt.legend()\n",
    "plt.show()"
   ]
  },
  {
   "cell_type": "markdown",
   "metadata": {},
   "source": [
    "Cek akurasi akhir model"
   ]
  },
  {
   "cell_type": "code",
   "execution_count": 33,
   "metadata": {},
   "outputs": [
    {
     "name": "stdout",
     "output_type": "stream",
     "text": [
      "18/18 [==============================] - 3s 148ms/step - loss: 0.5409 - accuracy: 0.7643\n",
      "\n",
      "Akurasi Model: 76.43 %\n"
     ]
    }
   ],
   "source": [
    "hasil = model.evaluate(val)\n",
    "\n",
    "accuracy = hasil[1]\n",
    "print(f'\\nAkurasi Model: {accuracy * 100:.2f} %')"
   ]
  },
  {
   "cell_type": "markdown",
   "metadata": {},
   "source": [
    "# Simpan Model"
   ]
  },
  {
   "cell_type": "markdown",
   "metadata": {},
   "source": [
    "jika merasa model sudah cukup baik dapat disimpan untuk digunakan di mana saja"
   ]
  },
  {
   "cell_type": "code",
   "execution_count": 34,
   "metadata": {},
   "outputs": [],
   "source": [
    "nama_model = 'Models/binary-' + datetime.now().strftime(\"%Y%m%d%H%M%S\")"
   ]
  },
  {
   "cell_type": "markdown",
   "metadata": {},
   "source": [
    "file h5/hdf5/keras untuk yang memakai tensorflow dan keras"
   ]
  },
  {
   "cell_type": "code",
   "execution_count": 35,
   "metadata": {},
   "outputs": [],
   "source": [
    "model.save(nama_model + '.h5');"
   ]
  },
  {
   "cell_type": "markdown",
   "metadata": {},
   "source": [
    "file onnx untuk yang memakai library onnx"
   ]
  },
  {
   "cell_type": "code",
   "execution_count": 36,
   "metadata": {},
   "outputs": [],
   "source": [
    "input = [tf.TensorSpec([None, ukuran_gambar[0], ukuran_gambar[1], 3], tf.float32, name='input_gambar')]\n",
    "onnx_model, _ = tf2onnx.convert.from_keras(model, input, opset=13)\n",
    "save(onnx_model, \"Models/21062024.onnx\")"
   ]
  }
 ],
 "metadata": {
  "kernelspec": {
   "display_name": "Python 3",
   "language": "python",
   "name": "python3"
  },
  "language_info": {
   "codemirror_mode": {
    "name": "ipython",
    "version": 3
   },
   "file_extension": ".py",
   "mimetype": "text/x-python",
   "name": "python",
   "nbconvert_exporter": "python",
   "pygments_lexer": "ipython3",
   "version": "3.11.2"
  }
 },
 "nbformat": 4,
 "nbformat_minor": 2
}
